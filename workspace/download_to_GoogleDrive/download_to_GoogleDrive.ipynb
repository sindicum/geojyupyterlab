{
 "cells": [
  {
   "cell_type": "code",
   "execution_count": 1,
   "id": "523b4dd3-5b87-4147-93a3-b644a49a62bf",
   "metadata": {
    "tags": []
   },
   "outputs": [
    {
     "data": {
      "text/html": [
       "<p>To authorize access needed by Earth Engine, open the following\n",
       "        URL in a web browser and follow the instructions:</p>\n",
       "        <p><a href=https://code.earthengine.google.com/client-auth?scopes=https%3A//www.googleapis.com/auth/earthengine%20https%3A//www.googleapis.com/auth/devstorage.full_control&request_id=AAjxxTASL0T6PdCibR0LS2YaCgdtYMj7vpNYU-nkZZE&tc=8rIrBNtYvr503MyQGft_oABZpKr1qw7xYeQGQOhwMg0&cc=kmVcxDUkVev5X5T57miKoe_-Z1fCAFcX9UzQVAv7wIY>https://code.earthengine.google.com/client-auth?scopes=https%3A//www.googleapis.com/auth/earthengine%20https%3A//www.googleapis.com/auth/devstorage.full_control&request_id=AAjxxTASL0T6PdCibR0LS2YaCgdtYMj7vpNYU-nkZZE&tc=8rIrBNtYvr503MyQGft_oABZpKr1qw7xYeQGQOhwMg0&cc=kmVcxDUkVev5X5T57miKoe_-Z1fCAFcX9UzQVAv7wIY</a></p>\n",
       "        <p>The authorization workflow will generate a code, which you should paste in the box below.</p>\n",
       "        "
      ],
      "text/plain": [
       "<IPython.core.display.HTML object>"
      ]
     },
     "metadata": {},
     "output_type": "display_data"
    },
    {
     "name": "stdin",
     "output_type": "stream",
     "text": [
      "Enter verification code:  4/1ARtbsJpYpZraSfsGxhCkdAW9ap3IMhnpLYiuGa-mDw91PkjNjR2brA4_uGg\n"
     ]
    },
    {
     "name": "stdout",
     "output_type": "stream",
     "text": [
      "\n",
      "Successfully saved authorization token.\n"
     ]
    }
   ],
   "source": [
    "from sentinelimage import SentinelImage"
   ]
  },
  {
   "cell_type": "code",
   "execution_count": 2,
   "id": "55dbe335-e32a-4229-977d-a94a58f25390",
   "metadata": {
    "tags": []
   },
   "outputs": [
    {
     "data": {
      "text/plain": [
       "['2021-07-13', '2021-07-16', '2021-07-18']"
      ]
     },
     "execution_count": 2,
     "metadata": {},
     "output_type": "execute_result"
    }
   ],
   "source": [
    "# 画像取得したいポリゴン座標\n",
    "coords = [[\n",
    "    [ 143.318056522214533, 43.242223343374064 ],\n",
    "    [ 143.320506245670259, 43.241908424574177 ],\n",
    "    [ 143.319809755668103, 43.239091578468283 ],\n",
    "    [ 143.317624218075224, 43.239459000563237 ],\n",
    "    [ 143.318056522214533, 43.242223343374064 ]\n",
    "]]\n",
    "\n",
    "# 出力画像名の接頭辞\n",
    "image_name = 'usage'\n",
    "# 対象期間（開始）\n",
    "start_date ='2021-07-10'\n",
    "# 対象期間（終了）\n",
    "end_date = '2021-7-20'\n",
    "# 雲被覆率フィルタリングの上限値\n",
    "cloudy_pixel_percentage_limit = 80\n",
    "# GoogleDrive出力先フォルダ名\n",
    "google_drive_dir = 'Download_From_GEE'\n",
    "\n",
    "# SentinelImageオブジェクトを作成（変数値の入力）\n",
    "ee_obj = SentinelImage(coords, image_name, start_date, end_date,\n",
    "                        cloudy_pixel_percentage_limit, google_drive_dir)\n",
    "\n",
    "# センチネル画像撮影日（リストで取得）\n",
    "shooting_date_list = ee_obj.shooting_date_list\n",
    "shooting_date_list"
   ]
  },
  {
   "cell_type": "code",
   "execution_count": null,
   "id": "d14f5595-ec80-4d73-b400-c25e13ae5425",
   "metadata": {},
   "outputs": [],
   "source": [
    "# 画像撮影日ごとに画像をGoogleDrive内に出力\n",
    "for shooting_date in shooting_date_list:\n",
    "\n",
    "    # センチネル画像取得（主要バンドB2,B3,B4,B8,B11,SCL）\n",
    "    ee_obj.get_raw_image(shooting_date)\n",
    "\n",
    "    # センチネル画像取得（トゥルーカラー）\n",
    "    ee_obj.get_truecolor_image(shooting_date)\n",
    "    \n",
    "    # # センチネル画像取得（NDVI）\n",
    "    ee_obj.get_ndvi_image(shooting_date)\n",
    "    \n",
    "    # # センチネル画像取得（EVI2）\n",
    "    ee_obj.get_evi2_image(shooting_date)\n",
    "    \n",
    "    # センチネル画像取得（NDWI）\n",
    "    ee_obj.get_ndwi_image(shooting_date)\n",
    "\n",
    "    # マスク処理センチネル画像取得\n",
    "    ee_obj.get_image_add_cldmasked(shooting_date)"
   ]
  }
 ],
 "metadata": {
  "kernelspec": {
   "display_name": "Python 3 (ipykernel)",
   "language": "python",
   "name": "python3"
  },
  "language_info": {
   "codemirror_mode": {
    "name": "ipython",
    "version": 3
   },
   "file_extension": ".py",
   "mimetype": "text/x-python",
   "name": "python",
   "nbconvert_exporter": "python",
   "pygments_lexer": "ipython3",
   "version": "3.9.15"
  }
 },
 "nbformat": 4,
 "nbformat_minor": 5
}
