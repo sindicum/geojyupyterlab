{
 "cells": [
  {
   "cell_type": "code",
   "execution_count": 2,
   "id": "8cec2b49-67ac-4b18-bb76-66d154fa7c73",
   "metadata": {},
   "outputs": [],
   "source": [
    "import rasterio as rio\n",
    "import numpy as np"
   ]
  },
  {
   "cell_type": "code",
   "execution_count": 3,
   "id": "619da3a3-475f-4395-9843-763a347cdaf0",
   "metadata": {},
   "outputs": [],
   "source": [
    "file_path = './sample_2021-07-21_CLDMASK.tif'\n",
    "\n",
    "with rio.open(file_path) as src:\n",
    "    dataset = src.read()"
   ]
  },
  {
   "cell_type": "code",
   "execution_count": 4,
   "id": "71293eb6-6ec0-47d4-b274-7d81e7f9fe2f",
   "metadata": {},
   "outputs": [],
   "source": [
    "b2 = dataset[0].astype(np.float32)\n",
    "b3 = dataset[1].astype(np.float32)\n",
    "b4 = dataset[2].astype(np.float32)\n",
    "b8 = dataset[3].astype(np.float32)\n",
    "b11 = dataset[4].astype(np.float32)\n",
    "cldmask = dataset[7]\n",
    "\n",
    "ndvi = (b8 - b4) / (b8 + b4)\n",
    "evi2 = (2.5 * (b8 - b4)) / (b8 + 2.4 * b4 + 10000)\n",
    "ndwi = (b4-b11)/(b4+b11)"
   ]
  },
  {
   "cell_type": "code",
   "execution_count": 5,
   "id": "1d40c6c5-db33-42ae-aac5-ca7c955f9b26",
   "metadata": {},
   "outputs": [
    {
     "name": "stdout",
     "output_type": "stream",
     "text": [
      "509.0\n",
      "924.0\n",
      "478.0\n",
      "5840.0\n",
      "2773.0\n",
      "0\n",
      "0.8486863\n",
      "0.7891236\n",
      "-0.7059366\n"
     ]
    }
   ],
   "source": [
    "print(b2[0][0])\n",
    "print(b3[0][0])\n",
    "print(b4[0][0])\n",
    "print(b8[0][0])\n",
    "print(b11[0][0])\n",
    "print(cldmask[0][0])\n",
    "print(ndvi[0][0])\n",
    "print(evi2[0][0])\n",
    "print(ndwi[0][0])"
   ]
  },
  {
   "cell_type": "code",
   "execution_count": 6,
   "id": "7f1ff481-ce70-4702-b2db-decc8da292f6",
   "metadata": {},
   "outputs": [],
   "source": [
    "ndvi_cldmasked = np.where(cldmask == 1, np.nan, ndvi)\n",
    "evi2_cldmasked = np.where(cldmask == 1, np.nan, evi2)\n",
    "ndwi_cldmasked = np.where(cldmask == 1, np.nan, ndwi)\n",
    "\n",
    "kwargs = src.meta\n",
    "kwargs.update(\n",
    "    dtype=rio.float32,\n",
    "    nodata=np.nan,\n",
    "    count=1,\n",
    "    compress='lzw'\n",
    ")"
   ]
  },
  {
   "cell_type": "code",
   "execution_count": 7,
   "id": "4d56cc4e-7ec2-43bc-affb-dbe54420997f",
   "metadata": {},
   "outputs": [],
   "source": [
    "save_path = 'masked_ndvi.tif'\n",
    "with rio.open(save_path,mode='w',**kwargs) as src:\n",
    "    src.write(ndvi_cldmasked,1)"
   ]
  },
  {
   "cell_type": "code",
   "execution_count": 8,
   "id": "e0f6ea5d-2bd2-413b-8bba-2713bfb15f26",
   "metadata": {},
   "outputs": [],
   "source": [
    "save_path = 'masked_evi2.tif'\n",
    "with rio.open(save_path,mode='w',**kwargs) as src:\n",
    "    src.write(evi2_cldmasked,1)"
   ]
  },
  {
   "cell_type": "code",
   "execution_count": 9,
   "id": "7d972704-babe-48f9-9e8c-c6b92c9725d6",
   "metadata": {},
   "outputs": [],
   "source": [
    "save_path = 'masked_ndwi.tif'\n",
    "with rio.open(save_path,mode='w',**kwargs) as src:\n",
    "    src.write(ndwi_cldmasked,1)"
   ]
  }
 ],
 "metadata": {
  "kernelspec": {
   "display_name": "Python 3 (ipykernel)",
   "language": "python",
   "name": "python3"
  },
  "language_info": {
   "codemirror_mode": {
    "name": "ipython",
    "version": 3
   },
   "file_extension": ".py",
   "mimetype": "text/x-python",
   "name": "python",
   "nbconvert_exporter": "python",
   "pygments_lexer": "ipython3",
   "version": "3.9.15"
  }
 },
 "nbformat": 4,
 "nbformat_minor": 5
}
