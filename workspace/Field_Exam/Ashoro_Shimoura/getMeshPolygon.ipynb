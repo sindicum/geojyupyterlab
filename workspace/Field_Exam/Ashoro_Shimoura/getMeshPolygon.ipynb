{
 "cells": [
  {
   "cell_type": "code",
   "execution_count": 1,
   "metadata": {},
   "outputs": [],
   "source": [
    "from __future__ import annotations\n",
    "import os,sys\n",
    "from sentinelimagerest import SentinelImageREST"
   ]
  },
  {
   "cell_type": "code",
   "execution_count": 2,
   "metadata": {},
   "outputs": [],
   "source": [
    "# 2022年足寄下浦施肥試験圃場\n",
    "coords = [[\n",
    "    [143.54648458054146,43.280494785586583],\n",
    "    [143.546898744126651,43.279885984638177],\n",
    "    [143.546843258096089,43.279720078110209],\n",
    "    [143.545453172783141,43.278880824448123],\n",
    "    [143.544937039855284,43.27930098868611],\n",
    "    [143.545016805853209,43.279505945798114],\n",
    "    [143.545387483137773,43.27989877833302],\n",
    "    [143.545561091486206,43.280004671886687],\n",
    "    [143.54648458054146,43.280494785586583]\n",
    "]]\n",
    "days_list: list[DateRange] = [\n",
    "    {'start_date':'2021-06-01','end_date':'2021-08-15'},\n",
    "    {'start_date':'2022-06-01','end_date':'2022-08-15'},\n",
    "]\n",
    "cloudy_pixel_percentage_limit = 80\n",
    "output_dir = './'\n",
    "field_name = '2022_ashoro_shimoura'\n",
    "vi_name: Literal['NDVI','EVI2','R-NDWI'] = 'EVI2'"
   ]
  },
  {
   "cell_type": "code",
   "execution_count": 3,
   "metadata": {},
   "outputs": [
    {
     "data": {
      "text/plain": [
       "['2021-05-04', '2021-05-07', '2021-05-09', '2021-05-12', '2021-05-14']"
      ]
     },
     "execution_count": 3,
     "metadata": {},
     "output_type": "execute_result"
    }
   ],
   "source": [
    "shooting_date_list = []\n",
    "\n",
    "for date in days_list:\n",
    "    start_date = date['start_date']\n",
    "    end_date = date['end_date']\n",
    "\n",
    "    # SentinelImageRESTクラスオブジェクトの作成\n",
    "    obj = SentinelImageREST(coords,start_date, end_date, cloudy_pixel_percentage_limit,output_dir,field_name,)\n",
    "    shooting_date_list.extend(obj.get_shootingdate_list())\n",
    "\n",
    "shooting_date_list"
   ]
  },
  {
   "cell_type": "code",
   "execution_count": 4,
   "metadata": {},
   "outputs": [
    {
     "name": "stderr",
     "output_type": "stream",
     "text": [
      "/usr/local/lib/python3.9/site-packages/geopandas/tools/clip.py:67: FutureWarning: In a future version, `df.iloc[:, i] = newvals` will attempt to set the values inplace instead of always setting a new array. To retain the old behavior, use either `df[df.columns[i]] = newvals` or, if columns are non-unique, `df.isetitem(i, newvals)`\n",
      "  clipped.loc[\n"
     ]
    }
   ],
   "source": [
    "# VIデータ入りメッシュポリゴンを作成しFlatGeoBuf形式で保存\n",
    "obj.create_vi_meshpolygon(coords, vi_name, shooting_date_list,10).to_file(field_name + '_' + vi_name +'.fgb',index=False, driver=\"FlatGeobuf\", spatial_index=\"NO\")"
   ]
  },
  {
   "cell_type": "code",
   "execution_count": null,
   "metadata": {},
   "outputs": [],
   "source": []
  }
 ],
 "metadata": {
  "kernelspec": {
   "display_name": "Python 3 (ipykernel)",
   "language": "python",
   "name": "python3"
  },
  "language_info": {
   "codemirror_mode": {
    "name": "ipython",
    "version": 3
   },
   "file_extension": ".py",
   "mimetype": "text/x-python",
   "name": "python",
   "nbconvert_exporter": "python",
   "pygments_lexer": "ipython3",
   "version": "3.9.15"
  }
 },
 "nbformat": 4,
 "nbformat_minor": 4
}
