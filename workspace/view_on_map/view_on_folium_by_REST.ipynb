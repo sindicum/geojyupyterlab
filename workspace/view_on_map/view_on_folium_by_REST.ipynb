{
 "cells": [
  {
   "cell_type": "code",
   "execution_count": 1,
   "id": "e99ce881-f5f9-4346-9854-14e0f8540e8b",
   "metadata": {},
   "outputs": [],
   "source": [
    "import os,sys\n",
    "sys.path.append('/usr/src')"
   ]
  },
  {
   "cell_type": "code",
   "execution_count": 2,
   "id": "4e9a9fa2-2e56-4bf9-821c-46fcc1f373b6",
   "metadata": {},
   "outputs": [
    {
     "data": {
      "text/plain": [
       "'\\nGCPでプロジェクトを作成し、サービスアカウントの秘密鍵を作成のうえipynb実行箇所と同一階層に保存する\\nGCPでGoogle Earth Engine RESTを有効化する。\\n以下の環境変数\\n'"
      ]
     },
     "execution_count": 2,
     "metadata": {},
     "output_type": "execute_result"
    }
   ],
   "source": [
    "'''\n",
    "GCPでプロジェクトを作成し、サービスアカウントの秘密鍵を作成のうえipynb実行箇所と同一階層に保存する\n",
    "GCPでGoogle Earth Engine RESTを有効化する。\n",
    "以下の環境変数\n",
    "'''\n",
    "# os.environ['GCP_SERVICE_ACCOUNT'] = 'gee-service-account@xxxxx.iam.gserviceaccount.com'\n",
    "# os.environ['GCP_KEY_FILE'] = 'xxxxx-aaaaa.json'\n",
    "# os.environ['GCP_PROJECT_ID'] = 'xxxxx'"
   ]
  },
  {
   "cell_type": "code",
   "execution_count": 3,
   "id": "1032df5d-cb34-4823-8ed4-1aa5aa4e285f",
   "metadata": {},
   "outputs": [],
   "source": [
    "# REST APIのインポート（まれにインポートに時間がかかる場合あり）\n",
    "from sentinelimagerest import SentinelImageREST"
   ]
  },
  {
   "cell_type": "code",
   "execution_count": 4,
   "id": "69f398f2-1f41-4ae8-ab6c-31e4e6fd2d38",
   "metadata": {},
   "outputs": [
    {
     "data": {
      "text/plain": [
       "['2022-05-02',\n",
       " '2022-05-17',\n",
       " '2022-05-24',\n",
       " '2022-06-06',\n",
       " '2022-06-18',\n",
       " '2022-06-21',\n",
       " '2022-06-26',\n",
       " '2022-07-03']"
      ]
     },
     "execution_count": 4,
     "metadata": {},
     "output_type": "execute_result"
    }
   ],
   "source": [
    "'''\n",
    "変数を設定する\n",
    "通常は以下の項目を入力する\n",
    "coords : ポリゴン座標（経度、緯度）※最初と最後の座標は一致させること\n",
    "start_date : 画像取得開始日\n",
    "cloudy_pixel_percentage_limit : 画像取得終了日\n",
    "output_image_dir : 画像保存場所（特に変更しなくても良い）\n",
    "finename_prefix : 元画像内の雲発生割合上限値\n",
    "'''\n",
    "\n",
    "coords = [[\n",
    "        [143.25916964884624, 43.20577096289138],\n",
    "        [143.26094227838942, 43.20555456719537],\n",
    "        [143.26087310260237, 43.20523102268399],\n",
    "        [143.26029087306136, 43.205304555678175],\n",
    "        [143.25992770017933, 43.20364478937389],\n",
    "        [143.258711359257, 43.20378765711047],\n",
    "        [143.25916964884624, 43.20577096289138]\n",
    "    ]]\n",
    "start_date = '2022-05-01'\n",
    "end_date = '2022-07-31'\n",
    "cloudy_pixel_percentage_limit = 50\n",
    "output_image_dir = './'\n",
    "finename_prefix = 'image'\n",
    "\n",
    "# SentinelImageRESTクラスオブジェクトの作成\n",
    "obj = SentinelImageREST(coords, start_date, end_date, cloudy_pixel_percentage_limit,output_image_dir,finename_prefix)\n",
    "\n",
    "# 撮影日リスト取得\n",
    "shootingdate_list = obj.get_shootingdate_list()\n",
    "shootingdate_list"
   ]
  },
  {
   "cell_type": "code",
   "execution_count": 5,
   "id": "4136e88a-4db4-4e4e-89ae-b91fd0b73093",
   "metadata": {},
   "outputs": [
    {
     "data": {
      "text/plain": [
       "<folium.raster_layers.TileLayer at 0xffff5a1028e0>"
      ]
     },
     "execution_count": 5,
     "metadata": {},
     "output_type": "execute_result"
    }
   ],
   "source": [
    "# folium表示の初期設定\n",
    "\n",
    "import folium\n",
    "import numpy as np\n",
    "\n",
    "def bounds_centroid(bounds):\n",
    "    arr = np.array(bounds)\n",
    "    return ((arr[0] + arr[1]) / 2).tolist()\n",
    "\n",
    "initial_content = obj.get_ndvi_for_folium(shootingdate_list[0])\n",
    "\n",
    "folium_map = folium.Map(\n",
    "    location=bounds_centroid(initial_content['bounds']),\n",
    "    zoom_start=15,\n",
    ")\n",
    "\n",
    "folium.raster_layers.TileLayer(\n",
    "    tiles='http://{s}.google.com/vt/lyrs=s&x={x}&y={y}&z={z}',\n",
    "    attr='google',\n",
    "    name='google maps',\n",
    "    subdomains=['mt0', 'mt1', 'mt2', 'mt3'],\n",
    "    overlay=False,\n",
    "    control=True,\n",
    ").add_to(folium_map)\n",
    "\n",
    "\n",
    "folium.raster_layers.TileLayer(\n",
    "    tiles='https://soil-inventory.rad.naro.go.jp/tile/figure/{z}/{x}/{y}.png',\n",
    "    attr='soil-inventory',\n",
    "    name='土壌図',\n",
    "    overlay=True,\n",
    "    control=True,\n",
    ").add_to(folium_map)\n"
   ]
  },
  {
   "cell_type": "code",
   "execution_count": 6,
   "id": "76b60f68-20d6-4dd0-8fe9-ea4feaa152ce",
   "metadata": {},
   "outputs": [
    {
     "data": {
      "image/png": "[encoded data removed]",
      "text/html": [
       "<div style=\"vertical-align: middle;\"><strong>from_list</strong> </div><div class=\"cmap\"><img alt=\"from_list colormap\" title=\"from_list\" style=\"border: 1px solid #555;\" src=\"data:image/png;base64,iVBORw0KGgoAAAANSUhEUgAAAgAAAABACAYAAABsv8+/AAAAGHRFWHRUaXRsZQBmcm9tX2xpc3QgY29sb3JtYXBDL89FAAAAHnRFWHREZXNjcmlwdGlvbgBmcm9tX2xpc3QgY29sb3JtYXABtCnOAAAAMHRFWHRBdXRob3IATWF0cGxvdGxpYiB2My42LjEsIGh0dHBzOi8vbWF0cGxvdGxpYi5vcmdEI+MMAAAAMnRFWHRTb2Z0d2FyZQBNYXRwbG90bGliIHYzLjYuMSwgaHR0cHM6Ly9tYXRwbG90bGliLm9yZ2qFfCsAAAHrSURBVHic7dZLboQwFEXBB9lGlP0vKZsJZBCDhBFq908Z3KoJsgHb9KB1pnVdq6rq+/Nrraqa5qmqqurj77qP23W6Mb+PT/Pz8b1unef3Pa5/dZ7H953v/N579/2f9ffnpu16fG4fj96fL56/vP+udcfuT7fO9aZ9H/59X71us7br0v4PtnEb1tJmtvHaxss27t5buueu17nat63fjU/nuvO98XN139evf7HOo98zfK7TOlfnHfzdl+P++3WZuvF2v58ffa6b7/ft1+nmf55df3Tfd3/n0+d40frtueO/AAAQQQAAQCABAACBBAAABBIAABBIAABAIAEAAIEEAAAEEgAAEEgAAEAgAQAAgQQAAAQSAAAQSAAAQCABAACBBAAABBIAABBIAABAIAEAAIEEAAAEEgAAEEgAAEAgAQAAgQQAAAQSAAAQSAAAQCABAACBBAAABBIAABBIAABAIAEAAIEEAAAEEgAAEEgAAEAgAQAAgQQAAAQSAAAQSAAAQCABAACBBAAABBIAABBIAABAIAEAAIEEAAAEEgAAEEgAAEAgAQAAgQQAAAQSAAAQSAAAQCABAACBBAAABBIAABBIAABAIAEAAIEEAAAEEgAAEEgAAEAgAQAAgQQAAAQSAAAQSAAAQCABAACBfgEa9//m/VEvsQAAAABJRU5ErkJggg==\"></div><div style=\"vertical-align: middle; max-width: 514px; display: flex; justify-content: space-between;\"><div style=\"float: left;\"><div title=\"#ffffff00\" style=\"display: inline-block; width: 1em; height: 1em; margin: 0; vertical-align: middle; border: 1px solid #555; background-color: #ffffff00;\"></div> under</div><div style=\"margin: 0 auto; display: inline-block;\">bad <div title=\"#00000000\" style=\"display: inline-block; width: 1em; height: 1em; margin: 0; vertical-align: middle; border: 1px solid #555; background-color: #00000000;\"></div></div><div style=\"float: right;\">over <div title=\"#2a83baff\" style=\"display: inline-block; width: 1em; height: 1em; margin: 0; vertical-align: middle; border: 1px solid #555; background-color: #2a83baff;\"></div></div>"
      ],
      "text/plain": [
       "<matplotlib.colors.ListedColormap at 0xffff5a10baf0>"
      ]
     },
     "execution_count": 6,
     "metadata": {},
     "output_type": "execute_result"
    }
   ],
   "source": [
    "# VI値を表現するカラーパレットの作成\n",
    "\n",
    "import matplotlib as mpl\n",
    "import matplotlib.pyplot as plt\n",
    "from matplotlib.colors import ListedColormap\n",
    "\n",
    "def gen_cmap_rgb(cols):\n",
    "    nmax = float(len(cols)-1)\n",
    "    cdict = {'red':[], 'green':[], 'blue':[]}\n",
    "    for n, c in enumerate(cols):\n",
    "        loc = n/nmax\n",
    "        cdict['red'  ].append((loc, c[0], c[0]))\n",
    "        cdict['green'].append((loc, c[1], c[1]))\n",
    "        cdict['blue' ].append((loc, c[2], c[2]))\n",
    "    my_cmap = mpl.colors.LinearSegmentedColormap('cmap', cdict)\n",
    "    func_cmap = lambda x : my_cmap(x)\n",
    "    my_cmap = func_cmap(np.arange(my_cmap.N))\n",
    "    my_cmap[0] = ((1, 1, 1, 0))\n",
    "    return ListedColormap(my_cmap)\n",
    "\n",
    "# カラーパレットをRGB値で記述（下記の例はQGIS　spectralと同一パレット）\n",
    "red = (215,25,28)\n",
    "orange = (253,174,97)\n",
    "yellow = (255,255,191)\n",
    "green = (171,221,164)\n",
    "blue = (42,131,186)\n",
    "color_pallet = [red,orange,yellow,green,blue]\n",
    "\n",
    "my_cmap = gen_cmap_rgb(list(map(lambda x: tuple(map(lambda y: y/255,x)),color_pallet)))\n",
    "my_cmap"
   ]
  },
  {
   "cell_type": "code",
   "execution_count": 17,
   "id": "19ff7ea6-2417-4294-a127-c94be15da0bd",
   "metadata": {},
   "outputs": [
    {
     "name": "stdout",
     "output_type": "stream",
     "text": [
      "1 / 8 added...\n",
      "2 / 8 added...\n",
      "3 / 8 added...\n",
      "4 / 8 added...\n",
      "5 / 8 added...\n",
      "6 / 8 added...\n",
      "7 / 8 added...\n",
      "8 / 8 added...\n",
      "finished\n"
     ]
    }
   ],
   "source": [
    "# 撮影日リスト取得に基づき画像取得しfoliumレイヤーに追加\n",
    "for idx,shootingdate in enumerate(shootingdate_list):\n",
    "    \n",
    "    content = obj.get_ndvi_for_folium(shootingdate)\n",
    "    \n",
    "    image = folium.raster_layers.ImageOverlay(\n",
    "            image = content['image'], \n",
    "            bounds= content['bounds'],\n",
    "            colormap = my_cmap,\n",
    "            name = shootingdate,\n",
    "            interactive=True,\n",
    "            zindex=1,\n",
    "        )\n",
    "\n",
    "    image.add_to(folium_map)\n",
    "    print(idx+1,'/',len(shootingdate_list),'added...')\n",
    "\n",
    "print('finished')"
   ]
  },
  {
   "cell_type": "code",
   "execution_count": 18,
   "id": "30ae2a7c-8e8d-4295-a3f7-04a28a5109a0",
   "metadata": {},
   "outputs": [
    {
     "data": {
      "text/html": [
       "<div style=\"width:100%;\"><div style=\"position:relative;width:100%;height:0;padding-bottom:60%;\"><span style=\"color:#565656\">Make this Notebook Trusted to load map: File -> Trust Notebook</span><iframe srcdoc=\"&lt;!DOCTYPE html&gt;\n",
       "&lt;head&gt;    \n",
       "    &lt;meta http-equiv=&quot;content-type&quot; content=&quot;text/html; charset=UTF-8&quot; /&gt;\n",
       "    \n",
       "        &lt;script&gt;\n",
       "            L_NO_TOUCH = false;\n",
       "            L_DISABLE_3D = false;\n",
       "        &lt;/script&gt;\n",
       "    \n",
       "    &lt;style&gt;html, body {width: 100%;height: 100%;margin: 0;padding: 0;}&lt;/style&gt;\n",
       "    &lt;style&gt;#map {position:absolute;top:0;bottom:0;right:0;left:0;}&lt;/style&gt;\n",
       "    &lt;script src=&quot;https://cdn.jsdelivr.net/npm/leaflet@1.6.0/dist/leaflet.js&quot;&gt;&lt;/script&gt;\n",
       "    &lt;script src=&quot;https://code.jquery.com/jquery-1.12.4.min.js&quot;&gt;&lt;/script&gt;\n",
       "    &lt;script src=&quot;https://maxcdn.bootstrapcdn.com/bootstrap/3.2.0/js/bootstrap.min.js&quot;&gt;&lt;/script&gt;\n",
       "    &lt;script src=&quot;https://cdnjs.cloudflare.com/ajax/libs/Leaflet.awesome-markers/2.0.2/leaflet.awesome-markers.js&quot;&gt;&lt;/script&gt;\n",
       "    &lt;link rel=&quot;stylesheet&quot; href=&quot;https://cdn.jsdelivr.net/npm/leaflet@1.6.0/dist/leaflet.css&quot;/&gt;\n",
       "    &lt;link rel=&quot;stylesheet&quot; href=&quot;https://maxcdn.bootstrapcdn.com/bootstrap/3.2.0/css/bootstrap.min.css&quot;/&gt;\n",
       "    &lt;link rel=&quot;stylesheet&quot; href=&quot;https://maxcdn.bootstrapcdn.com/bootstrap/3.2.0/css/bootstrap-theme.min.css&quot;/&gt;\n",
       "    &lt;link rel=&quot;stylesheet&quot; href=&quot;https://maxcdn.bootstrapcdn.com/font-awesome/4.6.3/css/font-awesome.min.css&quot;/&gt;\n",
       "    &lt;link rel=&quot;stylesheet&quot; href=&quot;https://cdnjs.cloudflare.com/ajax/libs/Leaflet.awesome-markers/2.0.2/leaflet.awesome-markers.css&quot;/&gt;\n",
       "    &lt;link rel=&quot;stylesheet&quot; href=&quot;https://cdn.jsdelivr.net/gh/python-visualization/folium/folium/templates/leaflet.awesome.rotate.min.css&quot;/&gt;\n",
       "    \n",
       "            &lt;meta name=&quot;viewport&quot; content=&quot;width=device-width,\n",
       "                initial-scale=1.0, maximum-scale=1.0, user-scalable=no&quot; /&gt;\n",
       "            &lt;style&gt;\n",
       "                #map_cd90aa14df477908a62c9a694f7d8b41 {\n",
       "                    position: relative;\n",
       "                    width: 100.0%;\n",
       "                    height: 100.0%;\n",
       "                    left: 0.0%;\n",
       "                    top: 0.0%;\n",
       "                }\n",
       "            &lt;/style&gt;\n",
       "        \n",
       "    \n",
       "                &lt;style&gt;\n",
       "                    .leaflet-image-layer {\n",
       "                        /* old android/safari*/\n",
       "                        image-rendering: -webkit-optimize-contrast;\n",
       "                        image-rendering: crisp-edges; /* safari */\n",
       "                        image-rendering: pixelated; /* chrome */\n",
       "                        image-rendering: -moz-crisp-edges; /* firefox */\n",
       "                        image-rendering: -o-crisp-edges; /* opera */\n",
       "                        -ms-interpolation-mode: nearest-neighbor; /* ie */\n",
       "                    }\n",
       "                &lt;/style&gt;\n",
       "            \n",
       "&lt;/head&gt;\n",
       "&lt;body&gt;    \n",
       "    \n",
       "            &lt;div class=&quot;folium-map&quot; id=&quot;map_cd90aa14df477908a62c9a694f7d8b41&quot; &gt;&lt;/div&gt;\n",
       "        \n",
       "&lt;/body&gt;\n",
       "&lt;script&gt;    \n",
       "    \n",
       "            var map_cd90aa14df477908a62c9a694f7d8b41 = L.map(\n",
       "                &quot;map_cd90aa14df477908a62c9a694f7d8b41&quot;,\n",
       "                {\n",
       "                    center: [43.20488753431934, 143.2582011142618],\n",
       "                    crs: L.CRS.EPSG3857,\n",
       "                    zoom: 15,\n",
       "                    zoomControl: true,\n",
       "                    preferCanvas: false,\n",
       "                }\n",
       "            );\n",
       "\n",
       "            \n",
       "\n",
       "        \n",
       "    \n",
       "            var tile_layer_b372d2171131e71743805f8aadf1785d = L.tileLayer(\n",
       "                &quot;https://{s}.tile.openstreetmap.org/{z}/{x}/{y}.png&quot;,\n",
       "                {&quot;attribution&quot;: &quot;Data by \\u0026copy; \\u003ca href=\\&quot;http://openstreetmap.org\\&quot;\\u003eOpenStreetMap\\u003c/a\\u003e, under \\u003ca href=\\&quot;http://www.openstreetmap.org/copyright\\&quot;\\u003eODbL\\u003c/a\\u003e.&quot;, &quot;detectRetina&quot;: false, &quot;maxNativeZoom&quot;: 18, &quot;maxZoom&quot;: 18, &quot;minZoom&quot;: 0, &quot;noWrap&quot;: false, &quot;opacity&quot;: 1, &quot;subdomains&quot;: &quot;abc&quot;, &quot;tms&quot;: false}\n",
       "            ).addTo(map_cd90aa14df477908a62c9a694f7d8b41);\n",
       "        \n",
       "    \n",
       "            var tile_layer_0557ceb5dc825d5a206bcd4078621717 = L.tileLayer(\n",
       "                &quot;http://{s}.google.com/vt/lyrs=s\\u0026x={x}\\u0026y={y}\\u0026z={z}&quot;,\n",
       "                {&quot;attribution&quot;: &quot;google&quot;, &quot;detectRetina&quot;: false, &quot;maxNativeZoom&quot;: 18, &quot;maxZoom&quot;: 18, &quot;minZoom&quot;: 0, &quot;noWrap&quot;: false, &quot;opacity&quot;: 1, &quot;subdomains&quot;: [&quot;mt0&quot;, &quot;mt1&quot;, &quot;mt2&quot;, &quot;mt3&quot;], &quot;tms&quot;: false}\n",
       "            ).addTo(map_cd90aa14df477908a62c9a694f7d8b41);\n",
       "        \n",
       "    \n",
       "            var tile_layer_1c4a3aaad84285b1d75eba6af06a4181 = L.tileLayer(\n",
       "                &quot;https://soil-inventory.rad.naro.go.jp/tile/figure/{z}/{x}/{y}.png&quot;,\n",
       "                {&quot;attribution&quot;: &quot;soil-inventory&quot;, &quot;detectRetina&quot;: false, &quot;maxNativeZoom&quot;: 18, &quot;maxZoom&quot;: 18, &quot;minZoom&quot;: 0, &quot;noWrap&quot;: false, &quot;opacity&quot;: 1, &quot;subdomains&quot;: &quot;abc&quot;, &quot;tms&quot;: false}\n",
       "            ).addTo(map_cd90aa14df477908a62c9a694f7d8b41);\n",
       "        \n",
       "    \n",
       "            var image_overlay_a0df425e1f5fe6d89dda61fadb310f71 = L.imageOverlay(\n",
       "                &quot;data:image/png;base64,iVBORw0KGgoAAAANSUhEUgAAABYAAAAiCAYAAABbXymAAAADAklEQVR42rWW205TQRSGeUkfwMQ7H8AH8MorE2NiYrzwgrMcysm2tAhEDfVE0IhBI7TQciinCkg57lnON8zaVphaqHLxp4e951sz//yz9m4RkZaQ3pb7JF3slHrXG6nuhc9bAzK+3C0vV5455dZ6ZbjQIQP5dmkaXK6m5NNWQl6t9siUBSK+U4hPlPP/T/mCvQut8t/BKFPskgl7HWFjEGyO0w78ptwbg4ACYxCa8t8/bPQ7YZcWYWJB8LS9cdoPUDADKKSarPE+51f02qtyOBoGz2z2C/qyPRjPkIEAgTUCBz2mWiMwGit1S7bU5QqgCe+/MS/C4KW9EZndHnCa3xmW9+t9TpPeQ90gNiu52OHgKq6bSp0ZL/98LoXdESeyDGTcqzYJ/J9a6owFmFWa/OMweGU/KaqPm4nrA+Ol+ooltWC1Qy3BPjP3IAxetxlctVCkh0R3nkIaN/rIiAXyiSi8aPcnePLMertsH6alaH1GeFx7KJgxAF0+YDa1MdhGpRmwZpoTVxe8cZASkoFYOmA9tniL57p8wLqxHIy940wYHFnw1kH6D4/xU8EMZqPoZohZa64penQ6Vn/Gu0ejzivEzcC0d2AFSTgP1qQEwUAvCx4qtDspWFMT7McmygrCJ46yZhfwXGXQSXNNU0fMmvzqsQ+D/YwBf/8xFC8PbymEaEqAeuZbnZI+FdpbguCD06wgNk9jlrtOMAPUc33AJvJtTsQNq/R6EEy4y/441/YEZvm18rsv47tuHuLI69gLYJ5xWnXBLrn2IfnN+g1cnw6sQhsPCSHn56ExeP8k44DNgndsRP8KXvCbRGbxE/GbmKkVSHsF0aMQ44Pg6knWVUVsIJHTQvhLA1coIPqEwlnVSTQWBpuNTjGLT8SUnp5prU0ohrCHGWu/YGMvBY6St+WqYG2VmmGzmwiA+25KNHPvTLP3ncxml+gRp33is55Mc5RyzQZfkQn4e7Ft2tk7Td6JZeYfuQLRu7tOem/14Q1BUeKWXOk1Nu4hdcBNvx//q34B/s+Qw0vurk4AAAAASUVORK5CYII=&quot;,\n",
       "                [[43.203774389278216, 143.25721296744925], [43.20600067936046, 143.2591892610743]],\n",
       "                {&quot;interactive&quot;: true, &quot;zindex&quot;: 1}\n",
       "            ).addTo(map_cd90aa14df477908a62c9a694f7d8b41);\n",
       "        \n",
       "    \n",
       "            var image_overlay_ff61f8e3af2ff6bffc74814b149dd3a3 = L.imageOverlay(\n",
       "                &quot;data:image/png;base64,iVBORw0KGgoAAAANSUhEUgAAABYAAAAiCAYAAABbXymAAAAC/0lEQVR42rWW208TQRTG+XtNfDAx8dkXn0xM9MGoId4oLRQoFwtUCkrEeAkigihgpAiIcicBBZHd4/ym/ZqKUypVHr5stzP7mzNnzvl2G8ysIaSBxRZrn2uyauO1VHVgeDltydkmy8wlvHrmm+3uu4RdG01Z3eBXaxnrX0hZ28cmf0VdhWZLu/vETFEsJN1+m7DGyWb7r2DmIHYnja9nwtvYORiw7KekdRYSHojuv0/4nPMf6nPjzMktpryY82A+6RXHQ2Gw8ooUBWBAWohFuCpydqGxeL0lDNYEwNo6aSBStl0LHMzx7HaP1QIrp+xC4/wmPfFCYxj8YqXdqGFEJEoF4JYPxWu6BAZICUrPv7ZbNHUlDB750maPP7d6cRA8DFBQ5V4LKWIWmtnqtujlxTCYVQUmHacGvjGe9PlD5LiyYth+5djCTtai4Qth8MRG52+p4CFFzL2gHOCtiWLXIYJY+d5vwc6LtztsdLXDBpdavThlNQbiMBUpuv466ResDY7ydYERczf2ctXBj1wKnrrKQHiEolFdAyEFksYoz3i/NwzGI7DLN+udXkRIxOouoJy+IuZ3tuQZBBQXbobB5IhUjDl3Q3IzGY9K7CgYaFUw0JOCSQ1gnUnQjyluNO1EOlRGwGSH8mhMHXGg/E8wKAie2uwytPytzwMUFQcjz6XdyTXVgORoi7u9XseCiZrJcrFTAwN64lKDaPdKMBXD7g6iQa8gmPcUon45KJUROVSLq83xD3lIfsnV70HO6w9w5N5RRCMD4rRV+JQR0eqlSodVmj/+fRRaBm/tP/SVUDd4t/t4MAJMCgRiMeBsGdG6cjhSRpnFW21h8OZ+rlyLOsRnDoj4D6CaANFxOlwf8dKdMBjz4FS5InI+XWoWImYnlNpIyZz+Chzlz9lJwVSDwJhVNHk5AO4/61/ZXsv3ivo5YKQH8TnAw7rfO8z77lx1voKw2pofhdHYJUO4VLyWKsot8uPQ7Wb6qld57tB588qesRN9xpbNvwq47u/jf9UvNJlQ6N67780AAAAASUVORK5CYII=&quot;,\n",
       "                [[43.203774389278216, 143.25721296744925], [43.20600067936046, 143.2591892610743]],\n",
       "                {&quot;interactive&quot;: true, &quot;zindex&quot;: 1}\n",
       "            ).addTo(map_cd90aa14df477908a62c9a694f7d8b41);\n",
       "        \n",
       "    \n",
       "            var image_overlay_82515257ea4c95a5179dafb1157df8e5 = L.imageOverlay(\n",
       "                &quot;data:image/png;base64,iVBORw0KGgoAAAANSUhEUgAAABYAAAAiCAYAAABbXymAAAADV0lEQVR42rWW6UtUURjG/ef6VkS0UH2IiKAoioSoKIoWKWwhMUmiTYpKyWVwHR2VNhNttUVSNFIr11FndHbveTvPc+4dRe8dpyk//D7cOXOf9z3vevNEJM8NpdpFJfzidb4angeJhTZJWm0UJ/FGmUsGpH+2TnIWVj/LREXqRKUComarSWyhVUYjTRKMNRMY+TXfSHCmhu/KfxWeiPqJCj4Vq/uc4fVp92tYL06IGiwVNVUhavQhCSVaZEQLzcRbiBp7JGqyXML6d4D/4j0Qv73dI3E6nmm0J0QnEx4yqeD7LbE+XBLeDgzc5DN5dsxduG+mVgA9c5KXbDbPWQi7xtjSL2UlrMUYz+fHDW8LxPp8lfF1Fcb1HeHBUL1MxvwEMUbCUroEgZp4LNbHQrE6Thla88VqPixW3T4PYe3Z8FwD6Ryrko7RSumdriVD+rcfYQNLDOLwEkD85UmxfHs9hHW24R14N1mzdsL+4XIJjFSQ7vFq6RqvIgO6AxkSp2q+FZuYtx/1ELZLC6DwPwV98kp7DXqmfDQGIMxkaq/p+fuLTKJr56Et2XHztYak6bLpuAHGEIJoyuCEY3VhdFmuwp1nxAocySAc9plWBggLavj3A8Ja7bnMZiC44UylQecG5+7CGDiW9iJUY4CgfpneAP8hJocG7IZQfTcM2ikYdReONgjmML0GaNM3Fxa7C+UEA8uF7UHlKgzRrIWRKPDlmqjeojSu8xiJAhRGbO040jPd/wR1ikHz9TqBGA0hPHb9rhCGIGDRIxnO1MIU054R5/r9JQY0BYQxIzSuwhG9LQBDgCHvZH7NhIfupDPP+Yt46s1BsDUw4VAtmszCI/eZ3XTCnFLrOmvQcaZh2zg8XajcTVYIo36x6rnu7c2QnrMQW2oA4XBWkH7GflsuuiiMDtJtmatwpHhLZmH2PEpp6cuoV9SvAww5M1g/R4o2y/yVTe7C7H87bhSGmNNdqF94bq92eo0c6IED5go3Suj8eg9hlEvDAa5tgoK3X+SZs88cshFmqfytMG5gnyO+wfx1LsJaMFqyVcIFGyRRtpNYNXu4uwgMwnjTQUP9fvObfe6WuBXTLVa6TUD83g5JPdlFKOp4vqS7kDTgFoaMn7HpDxgP4Zy/j/+VP4Y5i81Ct9OsAAAAAElFTkSuQmCC&quot;,\n",
       "                [[43.203774389278216, 143.25721296744925], [43.20600067936046, 143.2591892610743]],\n",
       "                {&quot;interactive&quot;: true, &quot;zindex&quot;: 1}\n",
       "            ).addTo(map_cd90aa14df477908a62c9a694f7d8b41);\n",
       "        \n",
       "    \n",
       "            var image_overlay_8118581fb48d79e4eda6c97053383943 = L.imageOverlay(\n",
       "                &quot;data:image/png;base64,iVBORw0KGgoAAAANSUhEUgAAABYAAAAiCAYAAABbXymAAAAC9UlEQVR42rWWa2sTQRSG+3tFRERERAQREREREREVETG3TTY3m9jUXrTWauu11qJUMWlN1VZTSlEERXLMc+QMSzObtin98JLdzcwzZ868c2YGRGTAp99/x2Rh/Y7E/b+VYv+YXyvLcDMjyYWE6uKzjBwfzcmhal76Bk+v5CX8mJArr9JyYSajOjWRlSO1UMHo2EioA6Gj98KuAXcNPjyUVx2s5PV/xOy84NetkpyfDrQjAEQHiwzxznd7t8EQKfSCiQ6dGM+5KIjKOiLeowPtKxXc8+SXnB8MEAGnMzKgPfcCe3M8tvw/0l5gZLk9MFhQAeZ9ZjUGnK8nXOezU4GcvJ9TAWUwe0e0MTCLd/ph1nm/C4xnAaLrcym59Dyjq4wuv0i7Z1tcA5MCvjd/3vWDi/WkVJfSqgefs3sHHl0OZHAxpUq/Tzgw0wa8v1xwuvEmJd9+1eJTgQ/Ro6+hWqeymFbdfpfUSC1a8mpQnoMPCfHuvJffizp1IkNEzy+RoJvzSU2H+RwX4PEtwUTXD9h2IemKBZ+ZzKobEFBSY+8GNrsZFPE+0envBY80A10UAIipIZsBHr86m3ZVzSJFBEQqvWCmwhSJCt16m5ShjjvYjajcSOm3zWCgsWCz1HbAtuWBkgIDe+uxTZeGwFlEVPuUcXYDyoBWJ4ia9mZBL9iiBEok5BqR11IjqcLH5x4HzrvUCsAMiLxgqw80tEKO9gzMN0tTrnNcAWYzINqRa0uVFxxdaeuIiIozD5shni3HtKUPNQV1gZ+s5F0Njp4Kdo5F6zCrb961xdsMdWAqmR2W/YApVj3BNrXoEYQzyDO5RZRMqxW0ZaCpODDGj0aE7WwxySn3C6sXeDt67DMw9xAvmOKBlWz1GQgYwvgMRKVDLOC2wO2NouwUTMpsW9Nmbq3kAbcCqW9UZLZVdDUBv9qWtrPOLIWDGJitjp6uFmTLS2H7z7AgrrBLP6oqpsm5126Pq1zbxjVRrYeyo2ts9ILoA/d9P96t/gFSfM61sfDx1AAAAABJRU5ErkJggg==&quot;,\n",
       "                [[43.203774389278216, 143.25721296744925], [43.20600067936046, 143.2591892610743]],\n",
       "                {&quot;interactive&quot;: true, &quot;zindex&quot;: 1}\n",
       "            ).addTo(map_cd90aa14df477908a62c9a694f7d8b41);\n",
       "        \n",
       "    \n",
       "            var image_overlay_5fa11c4b40983deb1de58ad5a1472d5a = L.imageOverlay(\n",
       "                &quot;data:image/png;base64,iVBORw0KGgoAAAANSUhEUgAAABYAAAAiCAYAAABbXymAAAACeUlEQVR42rWW60sUURjG/asjIoKICImIiIjoQ0R7dZdVs8JcM8yKLlpLlNENpY2iCybZhxKat/3N8IzvzJ7Z1S0/PLieM+c35zzvZc6YmY2F1HhXsnMrVSuaH6bCiWYPfOZxzU4sTcQ6fifRscUJGxn86HPLAJ96ULeT9xMJDhgxxrw0fq9u/xXsT6TfzAXBqxtXrf6mlB7f26DFpx8mNulFR2830jksDILPLtcMscCDtRt/AoDoULtpRxYasRgPgrULvxAQPjI2DBz0+NaHneMVgWUL44IBPjzfSLOmDzy9VokfQIIh+SkQUG+V/EVB8OXVcrpYQO1a4/LRB8/HIAg+/7SaSal9AwOUNch77sFKRRVKH5j+IN94SIFR1D0kn4q++jLQ5S+tOH99INilD5iCln/BQPDdT82RwD57CsFqKMqIg3PNPrCXrCAeheCb3VrcAyR2dGC2mckGD/MlroYUBF9br8YNRA9jA0HzO/RBE1itMwgGuluw3yVZpKYV7Mf0X6QFSrF87mKRYoAELQRXX5cMKXg+d3V0TqN2qmpjjKJCQTA9AqmE8+W7r2D/AZDwWAqCNSmILwZ5i3wB6WWa6wMvfmykk/ir5oPw3Oc2R9ZvZUUemoLb3eTLMCqYvwPBPun915j/Bbv4rJIB5wsjA6aUiS5iBxc6O1L6KXCA1UfQQDDNh3tE+VWiS8/LKRgYOwaIrrws7w78fuu67RWs7EA8g4V94OjHlHV/3rAnXydtqZcdaGa9YlNr5VgCqZe82Jg2rmCdb5OxVnrrhl4Ko2jB0NZ2O9X3X3P2dnPGot+zsfTsn864oWizZXu6xkpF4JHvx/+qvxu3xeAFFEr7AAAAAElFTkSuQmCC&quot;,\n",
       "                [[43.203774389278216, 143.25721296744925], [43.20600067936046, 143.2591892610743]],\n",
       "                {&quot;interactive&quot;: true, &quot;zindex&quot;: 1}\n",
       "            ).addTo(map_cd90aa14df477908a62c9a694f7d8b41);\n",
       "        \n",
       "    \n",
       "            var image_overlay_36eb50a669f6a399d6b1dd5eaedebcc7 = L.imageOverlay(\n",
       "                &quot;data:image/png;base64,iVBORw0KGgoAAAANSUhEUgAAABYAAAAiCAYAAABbXymAAAACbUlEQVR42rWWUWtTQRCF+5t9EBERREREpIgPIiIiJs1Nc1MpqE1rVKpUrRYUtQqKES1UIygoaqmYjnwTTpjEvUkbzcMhuXd3vz07szt3p8xsKqUrrbJNr2ZW1D5KhQ2XXpTt1IOqHb876zp2p/t7dHnWxgavtut29nHFYYDQ4Vs1fz5yu+bSZOpD+38F8x4datZ6E51+lKWXsbxZ8zAwQGBgEazJpANLea+N5yRYcZVLOef3xErVJceCHbyROxztb+RpcFxedBjhw8DJGJ9/OmOjwHEF6iswbpNgYgsQCSYIv2qL8ZTkPAlmmTHzETYIQbGNvoWhUNLijpgImMFKCmKpSHEXWOHZd61eHIoY1zgwuhZYzhXv5Mmrt0p9p41JBhMVJ5HziYIJoXZEEkwnnS6BIwjFmMoE27QQXHnVdUwdRsp63AERhsuT96ou+mtH/AW++LzsnZhdRShuu0EJLCNJMNDdglWk6EOJlOtkPT73pGKIWkHnmLCYIJ1GTYBTvU+CASLg8VhHp3I4+E6FaahjHMQtNzFwLO5n1jKXYk8bsVX7UHD8MiMVdSUUxRjzXAjO35R6bnCgpUVHcb/GSQROfv45cQwYF0ySh4I1iATFcMRDEEOlEMSj3AdeeFexC89mXBySyy/LfaFhMJMh3sXk6lOWBDfeZ4Zr7muo+rrkFxaES+Da57TtCrz2ac72CtZ/xApjjeiBdzpN2/yxYOtf5u3+x7prcSMzwoPm33ZhKx9y1+etRWt9vWob36+7HrbnbOSl8FfnpqGt3037tr3kav9sOGBnu+FS3876tCGM7ekaKxWBx74f/6v+AAyXvR6Bkn5YAAAAAElFTkSuQmCC&quot;,\n",
       "                [[43.203774389278216, 143.25721296744925], [43.20600067936046, 143.2591892610743]],\n",
       "                {&quot;interactive&quot;: true, &quot;zindex&quot;: 1}\n",
       "            ).addTo(map_cd90aa14df477908a62c9a694f7d8b41);\n",
       "        \n",
       "    \n",
       "            var image_overlay_f836d6556eafa88767d58e4ff6049c2d = L.imageOverlay(\n",
       "                &quot;data:image/png;base64,iVBORw0KGgoAAAANSUhEUgAAABYAAAAiCAYAAABbXymAAAACZklEQVR42rWW7UsUURSH/atDQgKJCImICJGIiGhnZ3dnfQkTLSOpsHctSorKly2IkhDEPgR96OTvLs9yXM/g7poffszcmTvPebnnnjtDZjYUqblRsYnXuZW9P0qlL+60chtfye3yy1rS1Te5XXlVs4vP6jYwePl70+qfKwkmuCSodOFJPUnP9J45Mv5fwYzHluud6K69rcZhvNieslsfsgQCfOl5G6yrJIAfC4xxpSsE+xCZrI/JMx/LU8DnHjU63o/cL2IwIeEtOVSV9AIOc5x9rFg/YF2l848bSfI2BN9YyzpeeDBwQICRxsrz6cVmDPYrTU6JwEPJO3O5H75XAla43uMTA/twFSr3GGMuz08tlICpWepWH3s478gxBjAc7ryZrSytPJP96nuolzdeCqaj9QtGZx82ysGaIDg1Ky9Qd5l5sCrozIMiBk9utsHX31WTuncXcB8RNa75bI5D4GLfY01Sd5IofL/yERhHQrCgvYIJX+nSPFIX9uOb7zOTZFn5irat39qcKmoBGArBhCO4PvILhscYZSwv9YxxCKYH86FvLicCZpEkRePBlBlpC8EsGGXljyC/oFJ3Oy0Fa2PgLY3FN3sfja8CX+/h8c+pMSjY94gQTD79EeShEgsoUcejS0UMLlwqVJf5p8qBnEp6Lum3QFF4rzmODoHVLgVTr5CmN9ubhSoQmLHm9QSe/5LbIGAiEZhT4wC4tTdnqz+nbelbw2REUpUgpUnhz7aqSU9/TNrC11q6cn/kT+HO77smre/O2trO7aSVfaMC/PqzmMTcv3szJsmxvn5jURl44P/j4+ofHFnb6aIuUKMAAAAASUVORK5CYII=&quot;,\n",
       "                [[43.203774389278216, 143.25721296744925], [43.20600067936046, 143.2591892610743]],\n",
       "                {&quot;interactive&quot;: true, &quot;zindex&quot;: 1}\n",
       "            ).addTo(map_cd90aa14df477908a62c9a694f7d8b41);\n",
       "        \n",
       "    \n",
       "            var image_overlay_40a0986c59b7bab0de198042d2cc0214 = L.imageOverlay(\n",
       "                &quot;data:image/png;base64,iVBORw0KGgoAAAANSUhEUgAAABYAAAAiCAYAAABbXymAAAACf0lEQVR42rWW20tVQRSH/WtFxAcfpKcQRCQiQiJEIkSis88+961kXkC8JEY3SSqKCm+YiRS+WOFTS76R3248zj5bj/nw4+zZe51v1mVmzXSYWUdI9c2CPXxXtKzvecr8MP+tbI8+RnbvdcnpwXpsY++Ldv9NydoGT2xFVtsoOBggpAlur5adbq1UbPhlyUnv/ytY4zvP/2n0bRwO49VBw55sF88A774onxEATYB4VgR8C4LHP0SGAAjMH+Q9Aja4XEk9HlispuqdqofBCgmwvBCY93ngYI7jLwXLAyOgSoHA/QtV65lshMEUjD8hwAodMGN9k7f+GHVPZICBDD2rOAEbWYvTPOOhwuVZRUTY876znoTB8kzeXhu4uTCSlpe/rm/OtwDjmb8p+ANFkZRL3mstC3xjtmbBnUcvoHgKHSlExLOg/qbIBdN02gFrt/XN1LPBFEvGPANU+JpAY/UFhBOZ4MefTsG+MV4qj/JYYyYnQjWrTHD562lzF9gHKFy/YAKr2EEw0IuClX9slD4U7MekQalAWl5+r1Xe5SFO0AU1DoLVKpVbfyVIQHU8IUXWEkxICC/8ZnOtYKUCKDZ+wwes7y3BSoV/lumURqRLdSDn2Kse58AA8Qapm2l3NR+mmhxpzTdDUzBe6N7QDpgzriXYl986/ZMk+lxIwdjxq1PjHBhj5ZhJGGsCvNQBirDRJUXqaiRhMJeTya2iu6Qg7m3+ugaoGrCJLgRmeV0FzHMwFes/E1v7kdjqfs24WiGtZ6SiTm3HTkt7FZvbLTl7lGxGlnspPDyeM7T/e8Z2jp46MfHy96od/Jl1ku3fjVFDe7+m7VLXWCkL3Pb9+Ko6ARBczl/jhrdkAAAAAElFTkSuQmCC&quot;,\n",
       "                [[43.203774389278216, 143.25721296744925], [43.20600067936046, 143.2591892610743]],\n",
       "                {&quot;interactive&quot;: true, &quot;zindex&quot;: 1}\n",
       "            ).addTo(map_cd90aa14df477908a62c9a694f7d8b41);\n",
       "        \n",
       "    \n",
       "            var layer_control_1eec7c7e33377f2d5a856141a588fbe5 = {\n",
       "                base_layers : {\n",
       "                    &quot;openstreetmap&quot; : tile_layer_b372d2171131e71743805f8aadf1785d,\n",
       "                    &quot;google maps&quot; : tile_layer_0557ceb5dc825d5a206bcd4078621717,\n",
       "                },\n",
       "                overlays :  {\n",
       "                    &quot;\\u571f\\u58cc\\u56f3&quot; : tile_layer_1c4a3aaad84285b1d75eba6af06a4181,\n",
       "                    &quot;2022-05-02&quot; : image_overlay_a0df425e1f5fe6d89dda61fadb310f71,\n",
       "                    &quot;2022-05-17&quot; : image_overlay_ff61f8e3af2ff6bffc74814b149dd3a3,\n",
       "                    &quot;2022-05-24&quot; : image_overlay_82515257ea4c95a5179dafb1157df8e5,\n",
       "                    &quot;2022-06-06&quot; : image_overlay_8118581fb48d79e4eda6c97053383943,\n",
       "                    &quot;2022-06-18&quot; : image_overlay_5fa11c4b40983deb1de58ad5a1472d5a,\n",
       "                    &quot;2022-06-21&quot; : image_overlay_36eb50a669f6a399d6b1dd5eaedebcc7,\n",
       "                    &quot;2022-06-26&quot; : image_overlay_f836d6556eafa88767d58e4ff6049c2d,\n",
       "                    &quot;2022-07-03&quot; : image_overlay_40a0986c59b7bab0de198042d2cc0214,\n",
       "                },\n",
       "            };\n",
       "            L.control.layers(\n",
       "                layer_control_1eec7c7e33377f2d5a856141a588fbe5.base_layers,\n",
       "                layer_control_1eec7c7e33377f2d5a856141a588fbe5.overlays,\n",
       "                {&quot;autoZIndex&quot;: true, &quot;collapsed&quot;: false, &quot;position&quot;: &quot;topright&quot;}\n",
       "            ).addTo(map_cd90aa14df477908a62c9a694f7d8b41);\n",
       "            tile_layer_0557ceb5dc825d5a206bcd4078621717.remove();\n",
       "        \n",
       "&lt;/script&gt;\" style=\"position:absolute;width:100%;height:100%;left:0;top:0;border:none !important;\" allowfullscreen webkitallowfullscreen mozallowfullscreen></iframe></div></div>"
      ],
      "text/plain": [
       "<folium.folium.Map at 0xffff7c68d520>"
      ]
     },
     "execution_count": 18,
     "metadata": {},
     "output_type": "execute_result"
    }
   ],
   "source": [
    "# foliumでの表示\n",
    "folium.LayerControl(collapsed=False).add_to(folium_map)\n",
    "folium_map"
   ]
  },
  {
   "cell_type": "code",
   "execution_count": 10,
   "id": "4d9deac2-a587-4424-b1ee-6317378417de",
   "metadata": {},
   "outputs": [
    {
     "name": "stdout",
     "output_type": "stream",
     "text": [
      "download EVI2 GeoTIFF... 1 / 8\n",
      "download EVI2 GeoTIFF... 2 / 8\n",
      "download EVI2 GeoTIFF... 3 / 8\n",
      "download EVI2 GeoTIFF... 4 / 8\n",
      "download EVI2 GeoTIFF... 5 / 8\n",
      "download EVI2 GeoTIFF... 6 / 8\n",
      "download EVI2 GeoTIFF... 7 / 8\n",
      "download EVI2 GeoTIFF... 8 / 8\n",
      "download NDVI GeoTIFF... 1 / 8\n",
      "download NDVI GeoTIFF... 2 / 8\n",
      "download NDVI GeoTIFF... 3 / 8\n",
      "download NDVI GeoTIFF... 4 / 8\n",
      "download NDVI GeoTIFF... 5 / 8\n",
      "download NDVI GeoTIFF... 6 / 8\n",
      "download NDVI GeoTIFF... 7 / 8\n",
      "download NDVI GeoTIFF... 8 / 8\n"
     ]
    }
   ],
   "source": [
    "# Geotiff各VI画像（オプションでバッファーを指定、初期値は0、正：拡大、負：縮小）\n",
    "# obj.get_geotiff_raw()\n",
    "# obj.get_geotiff_vi('EVI2',-10)\n",
    "# obj.get_geotiff_vi('NDVI')\n",
    "# obj.get_geotiff_vi('NDWI')"
   ]
  },
  {
   "cell_type": "code",
   "execution_count": null,
   "id": "d0fd6df7-41ec-49ea-bef5-c842454bf06d",
   "metadata": {},
   "outputs": [],
   "source": []
  }
 ],
 "metadata": {
  "kernelspec": {
   "display_name": "Python 3 (ipykernel)",
   "language": "python",
   "name": "python3"
  },
  "language_info": {
   "codemirror_mode": {
    "name": "ipython",
    "version": 3
   },
   "file_extension": ".py",
   "mimetype": "text/x-python",
   "name": "python",
   "nbconvert_exporter": "python",
   "pygments_lexer": "ipython3",
   "version": "3.9.14"
  },
  "vscode": {
   "interpreter": {
    "hash": "fb6709b3f1653188f38c3022bffca43e626f471d222244f93d0e271362087ec6"
   }
  }
 },
 "nbformat": 4,
 "nbformat_minor": 5
}
