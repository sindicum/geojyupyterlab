{
 "cells": [
  {
   "cell_type": "code",
   "execution_count": 9,
   "id": "e99ce881-f5f9-4346-9854-14e0f8540e8b",
   "metadata": {},
   "outputs": [],
   "source": [
    "import os,sys\n",
    "sys.path.append('/usr/src')"
   ]
  },
  {
   "cell_type": "code",
   "execution_count": 10,
   "id": "4e9a9fa2-2e56-4bf9-821c-46fcc1f373b6",
   "metadata": {},
   "outputs": [
    {
     "data": {
      "text/plain": [
       "'\\nGCPでプロジェクトを作成し、サービスアカウントの秘密鍵を作成のうえipynb実行箇所と同一階層に保存する\\nGCPでGoogle Earth Engine RESTを有効化する。\\n以下の環境変数\\n'"
      ]
     },
     "execution_count": 10,
     "metadata": {},
     "output_type": "execute_result"
    }
   ],
   "source": [
    "'''\n",
    "GCPでプロジェクトを作成し、サービスアカウントの秘密鍵を作成のうえipynb実行箇所と同一階層に保存する\n",
    "GCPでGoogle Earth Engine RESTを有効化する。\n",
    "以下の環境変数\n",
    "'''\n",
    "# os.environ['GCP_SERVICE_ACCOUNT'] = 'gee-service-account@xxxxx.iam.gserviceaccount.com'\n",
    "# os.environ['GCP_KEY_FILE'] = 'xxxxx-aaaaa.json'\n",
    "# os.environ['GCP_PROJECT_ID'] = 'xxxxx'"
   ]
  },
  {
   "cell_type": "code",
   "execution_count": 11,
   "id": "1032df5d-cb34-4823-8ed4-1aa5aa4e285f",
   "metadata": {},
   "outputs": [],
   "source": [
    "# REST APIのインポート（まれにインポートに時間がかかる場合あり）\n",
    "from sentinelimagerest import SentinelImageREST"
   ]
  },
  {
   "cell_type": "code",
   "execution_count": null,
   "id": "69f398f2-1f41-4ae8-ab6c-31e4e6fd2d38",
   "metadata": {},
   "outputs": [],
   "source": [
    "'''\n",
    "変数を設定する\n",
    "通常は以下の項目を入力する\n",
    "coords : ポリゴン座標（経度、緯度）※最初と最後の座標は一致させること\n",
    "start_date : 画像取得開始日\n",
    "cloudy_pixel_percentage_limit : 画像取得終了日\n",
    "output_image_dir : 画像保存場所（特に変更しなくても良い）\n",
    "finename_prefix : 元画像内の雲発生割合上限値\n",
    "'''\n",
    "\n",
    "coords = [[\n",
    "        [143.25916964884624, 43.20577096289138],\n",
    "        [143.26094227838942, 43.20555456719537],\n",
    "        [143.26087310260237, 43.20523102268399],\n",
    "        [143.26029087306136, 43.205304555678175],\n",
    "        [143.25992770017933, 43.20364478937389],\n",
    "        [143.258711359257, 43.20378765711047],\n",
    "        [143.25916964884624, 43.20577096289138]\n",
    "    ]]\n",
    "start_date = '2022-05-01'\n",
    "end_date = '2022-07-31'\n",
    "cloudy_pixel_percentage_limit = 50\n",
    "output_image_dir = './'\n",
    "finename_prefix = 'image'\n",
    "\n",
    "# SentinelImageRESTクラスオブジェクトの作成\n",
    "obj = SentinelImageREST(coords, start_date, end_date, cloudy_pixel_percentage_limit,output_image_dir,finename_prefix)\n",
    "\n",
    "# 撮影日リスト取得\n",
    "shootingdate_list = obj.get_shootingdate_list()\n",
    "shootingdate_list"
   ]
  },
  {
   "cell_type": "code",
   "execution_count": null,
   "id": "4136e88a-4db4-4e4e-89ae-b91fd0b73093",
   "metadata": {},
   "outputs": [],
   "source": [
    "# folium表示の初期設定\n",
    "\n",
    "import folium\n",
    "import numpy as np\n",
    "\n",
    "def bounds_centroid(bounds):\n",
    "    arr = np.array(bounds)\n",
    "    return ((arr[0] + arr[1]) / 2).tolist()\n",
    "\n",
    "initial_content = obj.get_ndvi_for_folium(shootingdate_list[0])\n",
    "\n",
    "folium_map = folium.Map(\n",
    "    location=bounds_centroid(initial_content['bounds']),\n",
    "    zoom_start=15,\n",
    ")\n",
    "\n",
    "folium.raster_layers.TileLayer(\n",
    "    tiles='http://{s}.google.com/vt/lyrs=s&x={x}&y={y}&z={z}',\n",
    "    attr='google',\n",
    "    name='google maps',\n",
    "    subdomains=['mt0', 'mt1', 'mt2', 'mt3'],\n",
    "    overlay=False,\n",
    "    control=True,\n",
    ").add_to(folium_map)\n",
    "\n",
    "\n",
    "folium.raster_layers.TileLayer(\n",
    "    tiles='https://soil-inventory.rad.naro.go.jp/tile/figure/{z}/{x}/{y}.png',\n",
    "    attr='soil-inventory',\n",
    "    name='土壌図',\n",
    "    overlay=True,\n",
    "    control=True,\n",
    ").add_to(folium_map)\n"
   ]
  },
  {
   "cell_type": "code",
   "execution_count": null,
   "id": "76b60f68-20d6-4dd0-8fe9-ea4feaa152ce",
   "metadata": {},
   "outputs": [],
   "source": [
    "# VI値を表現するカラーパレットの作成\n",
    "\n",
    "import matplotlib as mpl\n",
    "import matplotlib.pyplot as plt\n",
    "from matplotlib.colors import ListedColormap\n",
    "\n",
    "def gen_cmap_rgb(cols):\n",
    "    nmax = float(len(cols)-1)\n",
    "    cdict = {'red':[], 'green':[], 'blue':[]}\n",
    "    for n, c in enumerate(cols):\n",
    "        loc = n/nmax\n",
    "        cdict['red'  ].append((loc, c[0], c[0]))\n",
    "        cdict['green'].append((loc, c[1], c[1]))\n",
    "        cdict['blue' ].append((loc, c[2], c[2]))\n",
    "    my_cmap = mpl.colors.LinearSegmentedColormap('cmap', cdict)\n",
    "    func_cmap = lambda x : my_cmap(x)\n",
    "    my_cmap = func_cmap(np.arange(my_cmap.N))\n",
    "    my_cmap[0] = ((1, 1, 1, 0))\n",
    "    return ListedColormap(my_cmap)\n",
    "\n",
    "# カラーパレットをRGB値で記述（下記の例はQGIS　spectralと同一パレット）\n",
    "red = (215,25,28)\n",
    "orange = (253,174,97)\n",
    "yellow = (255,255,191)\n",
    "green = (171,221,164)\n",
    "blue = (42,131,186)\n",
    "color_pallet = [red,orange,yellow,green,blue]\n",
    "\n",
    "my_cmap = gen_cmap_rgb(list(map(lambda x: tuple(map(lambda y: y/255,x)),color_pallet)))\n",
    "my_cmap"
   ]
  },
  {
   "cell_type": "code",
   "execution_count": null,
   "id": "19ff7ea6-2417-4294-a127-c94be15da0bd",
   "metadata": {},
   "outputs": [],
   "source": [
    "# 撮影日リスト取得に基づき画像取得しfoliumレイヤーに追加\n",
    "for idx,shootingdate in enumerate(shootingdate_list):\n",
    "    \n",
    "    content = obj.get_ndvi_for_folium(shootingdate)\n",
    "    \n",
    "    image = folium.raster_layers.ImageOverlay(\n",
    "            image = content['image'], \n",
    "            bounds= content['bounds'],\n",
    "            colormap = my_cmap,\n",
    "            name = shootingdate,\n",
    "            interactive=True,\n",
    "            zindex=1,\n",
    "        )\n",
    "\n",
    "    image.add_to(folium_map)\n",
    "    print(idx+1,'/',len(shootingdate_list),'added...')\n",
    "\n",
    "print('finished')"
   ]
  },
  {
   "cell_type": "code",
   "execution_count": null,
   "id": "30ae2a7c-8e8d-4295-a3f7-04a28a5109a0",
   "metadata": {},
   "outputs": [],
   "source": [
    "# foliumでの表示\n",
    "folium.LayerControl(collapsed=False).add_to(folium_map)\n",
    "folium_map"
   ]
  },
  {
   "cell_type": "code",
   "execution_count": null,
   "id": "4d9deac2-a587-4424-b1ee-6317378417de",
   "metadata": {},
   "outputs": [],
   "source": [
    "# Geotiff各VI画像（オプションでバッファーを指定、初期値は0、正：拡大、負：縮小）\n",
    "# obj.get_geotiff_raw()\n",
    "# obj.get_geotiff_vi('EVI2',-10)\n",
    "# obj.get_geotiff_vi('NDVI')\n",
    "# obj.get_geotiff_vi('NDWI')"
   ]
  },
  {
   "cell_type": "code",
   "execution_count": null,
   "id": "d0fd6df7-41ec-49ea-bef5-c842454bf06d",
   "metadata": {},
   "outputs": [],
   "source": []
  }
 ],
 "metadata": {
  "kernelspec": {
   "display_name": "Python 3 (ipykernel)",
   "language": "python",
   "name": "python3"
  },
  "language_info": {
   "codemirror_mode": {
    "name": "ipython",
    "version": 3
   },
   "file_extension": ".py",
   "mimetype": "text/x-python",
   "name": "python",
   "nbconvert_exporter": "python",
   "pygments_lexer": "ipython3",
   "version": "3.7.14"
  },
  "vscode": {
   "interpreter": {
    "hash": "fb6709b3f1653188f38c3022bffca43e626f471d222244f93d0e271362087ec6"
   }
  }
 },
 "nbformat": 4,
 "nbformat_minor": 5
}
